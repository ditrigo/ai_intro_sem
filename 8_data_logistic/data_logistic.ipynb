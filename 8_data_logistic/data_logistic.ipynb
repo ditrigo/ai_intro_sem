{
 "cells": [
  {
   "cell_type": "code",
   "execution_count": 1,
   "metadata": {},
   "outputs": [],
   "source": [
    "import numpy as np\n",
    "import pandas as pd\n",
    "from sklearn.metrics import roc_auc_score"
   ]
  },
  {
   "cell_type": "code",
   "execution_count": 2,
   "metadata": {},
   "outputs": [],
   "source": [
    "# Шаг 1: Загрузка данных\n",
    "data = pd.read_csv('data-logistic.csv', header=None)\n",
    "X = data.iloc[:, 1:]\n",
    "y = data.iloc[:, 0]\n",
    "\n",
    "# Добавление фиктивного признака для удобства\n",
    "X = np.hstack((np.ones((X.shape[0], 1)), X))"
   ]
  },
  {
   "cell_type": "code",
   "execution_count": 3,
   "metadata": {},
   "outputs": [],
   "source": [
    "# Шаг 3: Реализация градиентного спуска\n",
    "def sigmoid(z):\n",
    "    clipped_z = np.clip(z, -500, 500)\n",
    "    return 1 / (1 + np.exp(-clipped_z))\n",
    "\n",
    "def gradient_descent(X, y, k, C, max_iter=10000, eps=1e-5):\n",
    "    w = np.zeros(X.shape[1])\n",
    "    for i in range(max_iter):\n",
    "        z = np.dot(X, w)\n",
    "        predictions = sigmoid(z)\n",
    "        gradient = np.dot(X.T, (predictions - y)) / len(y) + C * w\n",
    "        w -= k * gradient\n",
    "        if np.linalg.norm(k * gradient) < eps:\n",
    "            break\n",
    "    return w"
   ]
  },
  {
   "cell_type": "code",
   "execution_count": 4,
   "metadata": {},
   "outputs": [],
   "source": [
    "# Шаг 4: Запуск градиентного спуска\n",
    "w_no_reg = gradient_descent(X, y, k=0.1, C=0)\n",
    "w_with_reg = gradient_descent(X, y, k=0.1, C=10)\n",
    "\n",
    "# Вычисление вероятностей с помощью обученных моделей\n",
    "probabilities_no_reg = sigmoid(np.dot(X, w_no_reg))\n",
    "probabilities_with_reg = sigmoid(np.dot(X, w_with_reg))"
   ]
  },
  {
   "cell_type": "code",
   "execution_count": 5,
   "metadata": {},
   "outputs": [
    {
     "name": "stdout",
     "output_type": "stream",
     "text": [
      "AUC-ROC без регуляризации: 0.9358095238095238\n",
      "AUC-ROC с L2-регуляризацией: 0.937142857142857\n"
     ]
    }
   ],
   "source": [
    "# Шаг 5: Вычисление AUC-ROC\n",
    "auc_no_reg = roc_auc_score(y, probabilities_no_reg)\n",
    "auc_with_reg = roc_auc_score(y, probabilities_with_reg)\n",
    "\n",
    "print(f\"AUC-ROC без регуляризации: {auc_no_reg}\")\n",
    "print(f\"AUC-ROC с L2-регуляризацией: {auc_with_reg}\")"
   ]
  }
 ],
 "metadata": {
  "kernelspec": {
   "display_name": "Python 3",
   "language": "python",
   "name": "python3"
  },
  "language_info": {
   "codemirror_mode": {
    "name": "ipython",
    "version": 3
   },
   "file_extension": ".py",
   "mimetype": "text/x-python",
   "name": "python",
   "nbconvert_exporter": "python",
   "pygments_lexer": "ipython3",
   "version": "3.11.6"
  }
 },
 "nbformat": 4,
 "nbformat_minor": 2
}
