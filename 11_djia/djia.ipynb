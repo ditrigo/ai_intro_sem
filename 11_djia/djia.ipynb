{
 "cells": [
  {
   "cell_type": "code",
   "execution_count": 13,
   "metadata": {},
   "outputs": [],
   "source": [
    "import pandas as pd\n",
    "from sklearn.decomposition import PCA\n",
    "import numpy as np"
   ]
  },
  {
   "cell_type": "code",
   "execution_count": 14,
   "metadata": {},
   "outputs": [],
   "source": [
    "# Шаг 1: Загрузка данных close_prices.csv\n",
    "close_prices = pd.read_csv('close_prices.csv', parse_dates=['date'], index_col='date')"
   ]
  },
  {
   "cell_type": "code",
   "execution_count": 15,
   "metadata": {},
   "outputs": [
    {
     "name": "stdout",
     "output_type": "stream",
     "text": [
      "Компонент для объяснения 90% дисперсии: 4\n"
     ]
    }
   ],
   "source": [
    "# Шаг 2: Обучение преобразования PCA\n",
    "pca = PCA(n_components=10)\n",
    "pca.fit(close_prices)\n",
    "\n",
    "cumulative_explained_variance_ratio = np.cumsum(pca.explained_variance_ratio_)\n",
    "num_components_90 = np.argmax(cumulative_explained_variance_ratio >= 0.9) + 1\n",
    "print(f\"Компонент для объяснения 90% дисперсии: {num_components_90}\")"
   ]
  },
  {
   "cell_type": "code",
   "execution_count": 16,
   "metadata": {},
   "outputs": [],
   "source": [
    "# Шаг 3: Примение  построенного  преобразования  к  исходным  данным\n",
    "transformed_data = pca.transform(close_prices)\n",
    "first_component_values = transformed_data[:, 0]"
   ]
  },
  {
   "cell_type": "code",
   "execution_count": 17,
   "metadata": {},
   "outputs": [
    {
     "name": "stdout",
     "output_type": "stream",
     "text": [
      "Корреляция с индексом Доу-Джонса: 0.91\n"
     ]
    }
   ],
   "source": [
    "# Шаг 4: Загрузка данных djia_index.csv\n",
    "djia_prices = pd.read_csv('djia_index.csv', parse_dates=['date'], index_col='date')\n",
    "\n",
    "djia_values = djia_prices['^DJI'].values\n",
    "correlation = np.corrcoef(first_component_values, djia_values)[0, 1]\n",
    "print(f\"Корреляция с индексом Доу-Джонса: {correlation:.2f}\")"
   ]
  },
  {
   "cell_type": "code",
   "execution_count": 18,
   "metadata": {},
   "outputs": [
    {
     "name": "stdout",
     "output_type": "stream",
     "text": [
      "Компания с наибольшим весом в первой компоненте: V\n"
     ]
    }
   ],
   "source": [
    "# Шаг 5: Нахождение компании с наибольшим весом в первой компоненте\n",
    "weights_of_first_component = pca.components_[0]\n",
    "company_max_weight = close_prices.columns[np.argmax(weights_of_first_component)]\n",
    "\n",
    "print(f\"Компания с наибольшим весом в первой компоненте: {company_max_weight}\")"
   ]
  }
 ],
 "metadata": {
  "kernelspec": {
   "display_name": "Python 3",
   "language": "python",
   "name": "python3"
  },
  "language_info": {
   "codemirror_mode": {
    "name": "ipython",
    "version": 3
   },
   "file_extension": ".py",
   "mimetype": "text/x-python",
   "name": "python",
   "nbconvert_exporter": "python",
   "pygments_lexer": "ipython3",
   "version": "3.11.6"
  }
 },
 "nbformat": 4,
 "nbformat_minor": 2
}
