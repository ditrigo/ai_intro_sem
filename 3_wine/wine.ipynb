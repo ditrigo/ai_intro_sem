{
 "cells": [
  {
   "cell_type": "code",
   "execution_count": 11,
   "metadata": {},
   "outputs": [],
   "source": [
    "import pandas as pd\n",
    "from sklearn.model_selection import KFold, cross_val_score\n",
    "from sklearn.preprocessing import scale\n",
    "from sklearn.neighbors import KNeighborsClassifier"
   ]
  },
  {
   "cell_type": "code",
   "execution_count": 12,
   "metadata": {},
   "outputs": [],
   "source": [
    "data = pd.read_csv('wine.data', header=None)\n",
    "\n",
    "X = data.iloc[:, 1:]\n",
    "y = data.iloc[:, 0]"
   ]
  },
  {
   "cell_type": "code",
   "execution_count": 13,
   "metadata": {},
   "outputs": [
    {
     "name": "stdout",
     "output_type": "stream",
     "text": [
      "Оптимальное значение k: 1\n",
      "Точность на кросс-валидации: 0.7304761904761905\n"
     ]
    }
   ],
   "source": [
    "kf = KFold(n_splits=5, shuffle=True, random_state=42)\n",
    "\n",
    "results = []\n",
    "for k in range(1, 51):\n",
    "    model = KNeighborsClassifier(n_neighbors=k)\n",
    "    scores = cross_val_score(model, X, y, cv=kf, scoring='accuracy')\n",
    "    results.append(scores.mean())\n",
    "\n",
    "optimal_k = results.index(max(results)) + 1\n",
    "accuracy_at_optimal_k = max(results)\n",
    "\n",
    "print(f\"Оптимальное значение k: {optimal_k}\")\n",
    "print(f\"Точность на кросс-валидации: {accuracy_at_optimal_k}\")"
   ]
  },
  {
   "cell_type": "code",
   "execution_count": 14,
   "metadata": {},
   "outputs": [],
   "source": [
    "X_scaled = scale(X)"
   ]
  },
  {
   "cell_type": "code",
   "execution_count": 15,
   "metadata": {},
   "outputs": [
    {
     "name": "stdout",
     "output_type": "stream",
     "text": [
      "Оптимальное значение k (после масштабирования): 29\n",
      "Точность на кросс-валидации (после масштабирования): 0.9776190476190475\n"
     ]
    }
   ],
   "source": [
    "results_scaled = []\n",
    "for k in range(1, 51):\n",
    "    model = KNeighborsClassifier(n_neighbors=k)\n",
    "    scores = cross_val_score(model, X_scaled, y, cv=kf, scoring='accuracy')\n",
    "    results_scaled.append(scores.mean())\n",
    "\n",
    "optimal_k_scaled = results_scaled.index(max(results_scaled)) + 1\n",
    "accuracy_at_optimal_k_scaled = max(results_scaled)\n",
    "\n",
    "print(f\"Оптимальное значение k (после масштабирования): {optimal_k_scaled}\")\n",
    "print(f\"Точность на кросс-валидации (после масштабирования): {accuracy_at_optimal_k_scaled}\")"
   ]
  }
 ],
 "metadata": {
  "kernelspec": {
   "display_name": "Python 3",
   "language": "python",
   "name": "python3"
  },
  "language_info": {
   "codemirror_mode": {
    "name": "ipython",
    "version": 3
   },
   "file_extension": ".py",
   "mimetype": "text/x-python",
   "name": "python",
   "nbconvert_exporter": "python",
   "pygments_lexer": "ipython3",
   "version": "3.11.6"
  }
 },
 "nbformat": 4,
 "nbformat_minor": 2
}
