{
 "cells": [
  {
   "cell_type": "markdown",
   "id": "800ffdf2",
   "metadata": {},
   "source": [
    "# Задание 1"
   ]
  },
  {
   "cell_type": "code",
   "execution_count": 12,
   "id": "2f0d7365",
   "metadata": {},
   "outputs": [
    {
     "name": "stdout",
     "output_type": "stream",
     "text": [
      "Text from Page 1:\n",
      "1 \n",
      " Работа в  Pandas  на примере задачи « Titanic » \n",
      "Цели практики : \n",
      "• работать с данными используя язык Python  и пакет Pandas  \n",
      "• делать предобработку данных  \n",
      "• находить простые закономерности в данных  \n",
      "•обучать решающие деревья  \n",
      "•находить наиболее важные для них признаки  \n",
      " \n",
      "Начало работы  \n",
      "Для того, чтобы начать работать с данными, необходимо сначала загрузить их \n",
      "из файла. В данном задании мы будем работать с данными в формате CSV , \n",
      "предназначенном для хранения табличных данных: столбцы разделяются запятой, \n",
      "первая строка со держит имена столбцов.  \n",
      " \n",
      "Задание №1  \n",
      "Загрузите датасет titanic .csv и, используя описанные выше способы ра боты с \n",
      "данными, найдите ответы на вопросы:  \n",
      "1. Какое количество мужчин и женщин ехало на корабле? В качестве \n",
      "ответа приведите два числа через пробел.  \n",
      "2. Какой части пассажиров удалось выжить? Посчитайте долю вы -\n",
      "живших пассажиров. Ответ приведите в процентах (число в ин тервале от 0 до 100, \n",
      "знак процента не нужен), округлив до двух знаков.  \n",
      "3. Какую долю пассажиры первого класса составляли среди всех пас -\n",
      "сажиров? Ответ приведите в процентах (число в интервале от 0 до 100, знак \n",
      "процента не нужен), округлив до двух знаков.  \n",
      "4. Какого возраста были пассажиры? Посчитайте среднее и медиа ну \n",
      "возраста пассажиров. Посчитайте среднее и медиану возраста пассажиров. В \n",
      "качестве ответа приведите два числа через пробел.  \n",
      "5. Коррелируют ли число братьев/сестер с числом родителей/детей? \n",
      "Посчитайте корреляцию Пирсона между признаками SibSp  и Parch . \n",
      "6. Какое самое популярное женское имя на корабле? Извлеките из \n",
      "\n",
      "Text from Page 2:\n",
      "2 \n",
      " полного имени пассажира (колонка Name ) его личное имя (First Name ), что является  \n",
      "типичный пример того, с чем сталкивает ся специалист по анализу данных.  \n",
      "Ответ на каждое задание  — текстовый файл, содержащий ответ в первой \n",
      "строчке  (#.txt). Обратите внимание, что отправл яемые файлы не долж ны содержать \n",
      "перевод строки в конце.  \n",
      " \n",
      "Утонения  по выполнению задания : \n",
      "Если ответом является нецелое число, то целую и дробную часть необходимо \n",
      "разграничивать точкой, например, 0.42. При необходимости округляйте дробную \n",
      "часть до двух зна ков. \n",
      "Данные очень разнородные и шумные, но из них требуется извлечь \n",
      "необходимую информацию , для этого п опробуйте вручную разобрать несколько \n",
      "значений столбца Name и выработать правило для извлечения имен, а также \n",
      "разделения их на женские и мужские.  \n",
      "Рекомен дуем в данном практикуме использовать библиотеки Pandas , NumPy  \n",
      "и SciPy , которые существенно упрощают чтение, хранение и обработку данных.  \n",
      " \n",
      "Пример загрузки данных в Pandas : \n",
      "import  pandas  \n",
      "data = pandas . read_csv( ' titanic . csv ' , index_col='PassengerId '). \n",
      "Данные будут загружены в виде DataFrame , с помощью которого можно \n",
      "удобно работать с ними.  \n",
      "В данном случае параметр index _col=' PassengerId  ' означает, что колонка \n",
      "PassengerId  задает нумерацию строк данного датафрейма.  \n",
      "Для того , чтобы посмотреть, что представляют из себя данные, можно \n",
      "воспользоваться несколькими способами:  \n",
      "• более привычным с точки зрения Python  (если индекс указывается \n",
      "только один, то производится выбор строк):  data  [: 10]  \n",
      "• воспользоваться методом датафрейма : data  . head  ( ) \n",
      "Один из способов доступа к столбцам датафрейма — использовать квад -\n",
      "ратные скобки и название столбца:  \n",
      "data [ ' Pclas s ' ] \n",
      "\n",
      "Text from Page 3:\n",
      "3 \n",
      " Для подсчета некоторых статистик (количества, среднее, максимум, ми -\n",
      "нимум) можно также использовать методы датафрей ма: \n",
      "data [ ' Pclass ' ] . value_counts () \n",
      "Более подробно со списком методов датафрейма можно познакомиться в \n",
      "документации.  \n",
      " \n",
      "  \n",
      "\n",
      "Text from Page 4:\n",
      "4 \n",
      " Задание №2  \n",
      " \n",
      "В этом задании мы вновь рассмотрим данные о пассажирах Титаника  с \n",
      "применением библиотек и scikit -learn.  \n",
      "Будем решать н а них задачу классификации, в которой по различным \n",
      "характеристикам пассажиров требуется предсказать, кто из них выжил после \n",
      "крушения корабля.  \n",
      "Решающие деревья  относятся к классу логических методов. Их основная \n",
      "идея состоит в объединении определенного коли чества простых решающих правил, \n",
      "благодаря чему итоговый алгоритм является интерпретируемым. Как следует из \n",
      "названия, решающее дерево представляет собой бинарное дерево, в котором каждой \n",
      "вершине сопоставлено некоторое правило вида «j-й признак имеет значени е \n",
      "меньше b».  В листьях этого дерева записаны числа -предсказания. Чтобы получить \n",
      "ответ, нужно стартовать из корня и делать переходы либо в левое, либо в правое \n",
      "поддерево в зависимости от того, выполняется правило из текущей вершины или \n",
      "нет. \n",
      "Одна из особенно стей решающих деревьев заключается в том, что они \n",
      "позволяют получать важности всех используемых признаков. Важность признака \n",
      "можно оценить на основе того, как сильно улучшился критерий качества благодаря \n",
      "использованию этого признака в вершинах дерева.  \n",
      " \n",
      "1. Загрузите выборку из файла titanic.csv с помощью пакета Pandas.  \n",
      "2. Оставьте в выборке четыре признака: класс пассажира (Pclass),  цену билета \n",
      "(Fare),  возраст пассажира (Age) и его пол (Sex).  \n",
      "3. Обратите внимание, что признак Sex имеет строковые значения.  \n",
      "4. Выделите целевую переменную — она записана в столбце Survived.  \n",
      "5. В данных есть пропущенные значения — например, для некоторых \n",
      "пассажиров неизвестен их возраст. Такие записи при чтении их в  pandas принимают \n",
      "значение nan. Найдите все объекты, у которых ест ь пропущенные признаки, и \n",
      "удалите их из выборки.  \n",
      "6. Обучите решающее дерево с параметром random_state=241  и остальными \n",
      "параметрами по умолчанию (речь идет о параметрах конструктора \n",
      "DecisionTreeСlassifier).  \n",
      "7. Вычислите важности признаков и найдите два приз нака с наибольшей \n",
      "\n",
      "Text from Page 5:\n",
      "5 \n",
      " важностью. Их названия будут ответами для данной задачи (в качестве ответа \n",
      "укажите названия признаков через запятую или пробел, порядок не важен).  \n",
      " \n",
      "Ответ на каждое задание — текстовый файл, содержащий ответ в первой строчке. \n",
      "Обратите вни мание, что отправляемые файлы не должны содержать перевод строки \n",
      "в конце.  \n",
      " \n",
      "Утонения по выполнению задания:  \n",
      "В библиотеке scikit -learn решающие деревья реализованы в классах \n",
      "sklearn.tree.DecisionTreeСlassi ﬁer (для классификации) и \n",
      "sklearn.tree.DecisionTreeRegressor (для регрессии).   \n",
      "Обучение модели производится с помощью функции ﬁt. \n",
      "Пример использования:  \n",
      "import numpy as np  \n",
      "from sklearn . t r e e import D e c i s i o n T r e e C l a s s i f i e r  \n",
      "X = np . array ( [ [ 1 , 2 ] , [ 3  , 4 ] , [ 5 , 6 ] ] )  \n",
      "y = np . array ( [ 0 , 1 , 0 ] ) c l f = D e c i s i o n T r e e C l a s s i f i e r ( )  \n",
      "c l f . f i t (X, y )   \n",
      "В этом задании вам также потребуется находить важность признаков.  \n",
      "Это можно сделать, имея уже обученный классификатор:  \n",
      "importances = c l f . feature_importances_  \n",
      "Переменная importances  будет содержать массив «важностей » признаков.  \n",
      "Индекс в этом массиве соответствует индексу признака в данных.  \n",
      "Стоит обратить внимание, что данные могут содержать пропуски.  \n",
      "Pandas  хранит так ие значения как nan (not a number ).  \n",
      "Для того, чтобы проверить, является ли число nan’ом,  можно  \n",
      "воспользоваться функцией np.isnan.  \n",
      "Пример использования:  \n",
      "np . isnan (X)  \n",
      " \n",
      " \n",
      "\n"
     ]
    }
   ],
   "source": [
    "import PyPDF2\n",
    "\n",
    "# Укажите путь к вашему PDF-файлу\n",
    "pdf_path = 'C:\\Vvedenie_v_ML_titanic.pdf'\n",
    "\n",
    "# Открываем PDF-файл в бинарном режиме\n",
    "with open(pdf_path, 'rb') as file:\n",
    "    # Создаем объект для работы с PDF\n",
    "    pdf_reader = PyPDF2.PdfReader(file)\n",
    "\n",
    "    # Получаем количество страниц в PDF\n",
    "    num_pages = len(pdf_reader.pages)\n",
    "\n",
    "    # Читаем текст с каждой страницы\n",
    "    for page_num in range(num_pages):\n",
    "        # Получаем объект страницы\n",
    "        page = pdf_reader.pages[page_num]\n",
    "\n",
    "        # Извлекаем текст с текущей страницы\n",
    "        text = page.extract_text()\n",
    "\n",
    "        # Выводим текст в Jupyter Notebook\n",
    "        print(f'Text from Page {page_num + 1}:\\n{text}\\n')\n"
   ]
  },
  {
   "cell_type": "markdown",
   "id": "7b72f0e3",
   "metadata": {},
   "source": [
    "Загрузите датасет titanic.csv и, используя описанные выше способы работы с\n",
    "данными, найдите ответы на вопросы:\n",
    "### 1. Какое количество мужчин и женщин ехало на корабле? В качестве ответа приведите два числа через пробел.\n"
   ]
  },
  {
   "cell_type": "markdown",
   "id": "e38fe0e6",
   "metadata": {},
   "source": [
    "Смотрим на данные"
   ]
  },
  {
   "cell_type": "code",
   "execution_count": 16,
   "id": "d7d08938",
   "metadata": {},
   "outputs": [
    {
     "data": {
      "text/html": [
       "<div>\n",
       "<style scoped>\n",
       "    .dataframe tbody tr th:only-of-type {\n",
       "        vertical-align: middle;\n",
       "    }\n",
       "\n",
       "    .dataframe tbody tr th {\n",
       "        vertical-align: top;\n",
       "    }\n",
       "\n",
       "    .dataframe thead th {\n",
       "        text-align: right;\n",
       "    }\n",
       "</style>\n",
       "<table border=\"1\" class=\"dataframe\">\n",
       "  <thead>\n",
       "    <tr style=\"text-align: right;\">\n",
       "      <th></th>\n",
       "      <th>Survived</th>\n",
       "      <th>Pclass</th>\n",
       "      <th>Name</th>\n",
       "      <th>Sex</th>\n",
       "      <th>Age</th>\n",
       "      <th>SibSp</th>\n",
       "      <th>Parch</th>\n",
       "      <th>Ticket</th>\n",
       "      <th>Fare</th>\n",
       "      <th>Cabin</th>\n",
       "      <th>Embarked</th>\n",
       "    </tr>\n",
       "    <tr>\n",
       "      <th>PassengerId</th>\n",
       "      <th></th>\n",
       "      <th></th>\n",
       "      <th></th>\n",
       "      <th></th>\n",
       "      <th></th>\n",
       "      <th></th>\n",
       "      <th></th>\n",
       "      <th></th>\n",
       "      <th></th>\n",
       "      <th></th>\n",
       "      <th></th>\n",
       "    </tr>\n",
       "  </thead>\n",
       "  <tbody>\n",
       "    <tr>\n",
       "      <th>1</th>\n",
       "      <td>0</td>\n",
       "      <td>3</td>\n",
       "      <td>Braund, Mr. Owen Harris</td>\n",
       "      <td>male</td>\n",
       "      <td>22.0</td>\n",
       "      <td>1</td>\n",
       "      <td>0</td>\n",
       "      <td>A/5 21171</td>\n",
       "      <td>7.2500</td>\n",
       "      <td>NaN</td>\n",
       "      <td>S</td>\n",
       "    </tr>\n",
       "    <tr>\n",
       "      <th>2</th>\n",
       "      <td>1</td>\n",
       "      <td>1</td>\n",
       "      <td>Cumings, Mrs. John Bradley (Florence Briggs Th...</td>\n",
       "      <td>female</td>\n",
       "      <td>38.0</td>\n",
       "      <td>1</td>\n",
       "      <td>0</td>\n",
       "      <td>PC 17599</td>\n",
       "      <td>71.2833</td>\n",
       "      <td>C85</td>\n",
       "      <td>C</td>\n",
       "    </tr>\n",
       "    <tr>\n",
       "      <th>3</th>\n",
       "      <td>1</td>\n",
       "      <td>3</td>\n",
       "      <td>Heikkinen, Miss. Laina</td>\n",
       "      <td>female</td>\n",
       "      <td>26.0</td>\n",
       "      <td>0</td>\n",
       "      <td>0</td>\n",
       "      <td>STON/O2. 3101282</td>\n",
       "      <td>7.9250</td>\n",
       "      <td>NaN</td>\n",
       "      <td>S</td>\n",
       "    </tr>\n",
       "    <tr>\n",
       "      <th>4</th>\n",
       "      <td>1</td>\n",
       "      <td>1</td>\n",
       "      <td>Futrelle, Mrs. Jacques Heath (Lily May Peel)</td>\n",
       "      <td>female</td>\n",
       "      <td>35.0</td>\n",
       "      <td>1</td>\n",
       "      <td>0</td>\n",
       "      <td>113803</td>\n",
       "      <td>53.1000</td>\n",
       "      <td>C123</td>\n",
       "      <td>S</td>\n",
       "    </tr>\n",
       "    <tr>\n",
       "      <th>5</th>\n",
       "      <td>0</td>\n",
       "      <td>3</td>\n",
       "      <td>Allen, Mr. William Henry</td>\n",
       "      <td>male</td>\n",
       "      <td>35.0</td>\n",
       "      <td>0</td>\n",
       "      <td>0</td>\n",
       "      <td>373450</td>\n",
       "      <td>8.0500</td>\n",
       "      <td>NaN</td>\n",
       "      <td>S</td>\n",
       "    </tr>\n",
       "    <tr>\n",
       "      <th>6</th>\n",
       "      <td>0</td>\n",
       "      <td>3</td>\n",
       "      <td>Moran, Mr. James</td>\n",
       "      <td>male</td>\n",
       "      <td>NaN</td>\n",
       "      <td>0</td>\n",
       "      <td>0</td>\n",
       "      <td>330877</td>\n",
       "      <td>8.4583</td>\n",
       "      <td>NaN</td>\n",
       "      <td>Q</td>\n",
       "    </tr>\n",
       "    <tr>\n",
       "      <th>7</th>\n",
       "      <td>0</td>\n",
       "      <td>1</td>\n",
       "      <td>McCarthy, Mr. Timothy J</td>\n",
       "      <td>male</td>\n",
       "      <td>54.0</td>\n",
       "      <td>0</td>\n",
       "      <td>0</td>\n",
       "      <td>17463</td>\n",
       "      <td>51.8625</td>\n",
       "      <td>E46</td>\n",
       "      <td>S</td>\n",
       "    </tr>\n",
       "    <tr>\n",
       "      <th>8</th>\n",
       "      <td>0</td>\n",
       "      <td>3</td>\n",
       "      <td>Palsson, Master. Gosta Leonard</td>\n",
       "      <td>male</td>\n",
       "      <td>2.0</td>\n",
       "      <td>3</td>\n",
       "      <td>1</td>\n",
       "      <td>349909</td>\n",
       "      <td>21.0750</td>\n",
       "      <td>NaN</td>\n",
       "      <td>S</td>\n",
       "    </tr>\n",
       "    <tr>\n",
       "      <th>9</th>\n",
       "      <td>1</td>\n",
       "      <td>3</td>\n",
       "      <td>Johnson, Mrs. Oscar W (Elisabeth Vilhelmina Berg)</td>\n",
       "      <td>female</td>\n",
       "      <td>27.0</td>\n",
       "      <td>0</td>\n",
       "      <td>2</td>\n",
       "      <td>347742</td>\n",
       "      <td>11.1333</td>\n",
       "      <td>NaN</td>\n",
       "      <td>S</td>\n",
       "    </tr>\n",
       "    <tr>\n",
       "      <th>10</th>\n",
       "      <td>1</td>\n",
       "      <td>2</td>\n",
       "      <td>Nasser, Mrs. Nicholas (Adele Achem)</td>\n",
       "      <td>female</td>\n",
       "      <td>14.0</td>\n",
       "      <td>1</td>\n",
       "      <td>0</td>\n",
       "      <td>237736</td>\n",
       "      <td>30.0708</td>\n",
       "      <td>NaN</td>\n",
       "      <td>C</td>\n",
       "    </tr>\n",
       "  </tbody>\n",
       "</table>\n",
       "</div>"
      ],
      "text/plain": [
       "             Survived  Pclass  \\\n",
       "PassengerId                     \n",
       "1                   0       3   \n",
       "2                   1       1   \n",
       "3                   1       3   \n",
       "4                   1       1   \n",
       "5                   0       3   \n",
       "6                   0       3   \n",
       "7                   0       1   \n",
       "8                   0       3   \n",
       "9                   1       3   \n",
       "10                  1       2   \n",
       "\n",
       "                                                          Name     Sex   Age  \\\n",
       "PassengerId                                                                    \n",
       "1                                      Braund, Mr. Owen Harris    male  22.0   \n",
       "2            Cumings, Mrs. John Bradley (Florence Briggs Th...  female  38.0   \n",
       "3                                       Heikkinen, Miss. Laina  female  26.0   \n",
       "4                 Futrelle, Mrs. Jacques Heath (Lily May Peel)  female  35.0   \n",
       "5                                     Allen, Mr. William Henry    male  35.0   \n",
       "6                                             Moran, Mr. James    male   NaN   \n",
       "7                                      McCarthy, Mr. Timothy J    male  54.0   \n",
       "8                               Palsson, Master. Gosta Leonard    male   2.0   \n",
       "9            Johnson, Mrs. Oscar W (Elisabeth Vilhelmina Berg)  female  27.0   \n",
       "10                         Nasser, Mrs. Nicholas (Adele Achem)  female  14.0   \n",
       "\n",
       "             SibSp  Parch            Ticket     Fare Cabin Embarked  \n",
       "PassengerId                                                          \n",
       "1                1      0         A/5 21171   7.2500   NaN        S  \n",
       "2                1      0          PC 17599  71.2833   C85        C  \n",
       "3                0      0  STON/O2. 3101282   7.9250   NaN        S  \n",
       "4                1      0            113803  53.1000  C123        S  \n",
       "5                0      0            373450   8.0500   NaN        S  \n",
       "6                0      0            330877   8.4583   NaN        Q  \n",
       "7                0      0             17463  51.8625   E46        S  \n",
       "8                3      1            349909  21.0750   NaN        S  \n",
       "9                0      2            347742  11.1333   NaN        S  \n",
       "10               1      0            237736  30.0708   NaN        C  "
      ]
     },
     "execution_count": 16,
     "metadata": {},
     "output_type": "execute_result"
    }
   ],
   "source": [
    "import pandas as pd\n",
    "import numpy as np\n",
    "\n",
    "data = pd.read_csv(\"titanic.csv\", index_col = \"PassengerId\")\n",
    "data.head(10)"
   ]
  },
  {
   "cell_type": "code",
   "execution_count": 2,
   "id": "9fb3812d",
   "metadata": {},
   "outputs": [
    {
     "name": "stdout",
     "output_type": "stream",
     "text": [
      "Всего мужчин на корабле было 577, а женщин - 314.\n"
     ]
    }
   ],
   "source": [
    "males = data[data['Sex']=='male'].shape[0]\n",
    "females = data[data['Sex'] == 'female'].shape[0]\n",
    "print(f'Всего мужчин на корабле было {males}, а женщин - {females}.')"
   ]
  },
  {
   "cell_type": "markdown",
   "id": "f8606e5b",
   "metadata": {},
   "source": [
    "### 2.Какой части пассажиров удалось выжить? Посчитайте долю выживших пассажиров. Ответ приведите в процентах , округлив до двух знаков."
   ]
  },
  {
   "cell_type": "code",
   "execution_count": 3,
   "id": "bb5f86de",
   "metadata": {},
   "outputs": [
    {
     "name": "stdout",
     "output_type": "stream",
     "text": [
      "Всего выжило 38.38%\n"
     ]
    }
   ],
   "source": [
    "survived = data[data['Survived'] == 1].shape[0]\n",
    "all_passengers = data.shape[0]\n",
    "percents_survived = (survived*100)/all_passengers\n",
    "print(f'Всего выжило {round(percents_survived,2)}%')"
   ]
  },
  {
   "cell_type": "markdown",
   "id": "f6f2ba25",
   "metadata": {},
   "source": [
    "### 3. Какую долю пассажиры первого класса составляли среди всех пассажиров? Ответ приведите в процентах, округлив до двух знаков."
   ]
  },
  {
   "cell_type": "code",
   "execution_count": 4,
   "id": "f6707075",
   "metadata": {},
   "outputs": [
    {
     "name": "stdout",
     "output_type": "stream",
     "text": [
      "Всего количество пассажиров 1 класса было 24.24%\n"
     ]
    }
   ],
   "source": [
    "first_class = data[data['Pclass'] == 1].shape[0]\n",
    "all_passengers = data.shape[0]\n",
    "percents_first_class = (first_class*100)/all_passengers\n",
    "print(f'Всего количество пассажиров 1 класса было {round(percents_first_class,2)}%')"
   ]
  },
  {
   "cell_type": "markdown",
   "id": "bccab9fb",
   "metadata": {},
   "source": [
    "### 4. Какого возраста были пассажиры? Посчитайте среднее и медиану возраста пассажиров. В качестве ответа приведите два числа через пробел."
   ]
  },
  {
   "cell_type": "code",
   "execution_count": 5,
   "id": "bb8613b5",
   "metadata": {},
   "outputs": [
    {
     "name": "stdout",
     "output_type": "stream",
     "text": [
      "Средний возраст пассажиров был 30, а медиана возраста - 28.0\n"
     ]
    }
   ],
   "source": [
    "median_age = data['Age'].median()\n",
    "mean_age = data['Age'].mean()\n",
    "print(f'Средний возраст пассажиров был {round(mean_age)}, а медиана возраста - {median_age}')"
   ]
  },
  {
   "cell_type": "markdown",
   "id": "92ef93e6",
   "metadata": {},
   "source": [
    "### 5. Коррелируют ли число братьев/сестер с числом родителей/детей? Посчитайте корреляцию Пирсона между признаками SibSp и Parch."
   ]
  },
  {
   "cell_type": "code",
   "execution_count": 6,
   "id": "b103af2e",
   "metadata": {
    "scrolled": true
   },
   "outputs": [
    {
     "name": "stdout",
     "output_type": "stream",
     "text": [
      "Корреляция Пирсона между признаками SibSp и Parch составляет 0.41\n"
     ]
    }
   ],
   "source": [
    "corr_Pirs = data['SibSp'].corr(data['Parch'])\n",
    "print(f'Корреляция Пирсона между признаками SibSp и Parch составляет {round(corr_Pirs, 2)}')"
   ]
  },
  {
   "cell_type": "markdown",
   "id": "941ff29e",
   "metadata": {},
   "source": [
    "### 6. Какое самое популярное женское имя на корабле? Извлеките из полного имени пассажира (колонка Name) его личное имя (First Name)"
   ]
  },
  {
   "cell_type": "code",
   "execution_count": 63,
   "id": "139f4beb",
   "metadata": {},
   "outputs": [
    {
     "name": "stdout",
     "output_type": "stream",
     "text": [
      "Самое популярное женское имя на корабле: Anna (встречается 15 раз)\n"
     ]
    }
   ],
   "source": [
    "data_omly_females = data[data['Sex']=='female']\n",
    "full_females_name = data_omly_females['Name']\n",
    "\n",
    "def parse_first_name_female(name):\n",
    "    first = name.str.extract(r\"Mrs\\.\\s+[^(]*\\((\\w+)\", expand=False)\n",
    "    first.loc[first.isna()] = name.str.extract(r\"\\.\\s+(\\w+)\", expand=False)\n",
    "    return first\n",
    "\n",
    "names_females = parse_first_name_female(full_females_name)\n",
    "final = names_females.value_counts()\n",
    "answer = final.index[0]\n",
    "print(f'Самое популярное женское имя на корабле: {answer} (встречается {final[0]} раз)')"
   ]
  },
  {
   "cell_type": "markdown",
   "id": "4f2a7ffc",
   "metadata": {},
   "source": [
    "# Задание 2"
   ]
  },
  {
   "cell_type": "markdown",
   "id": "9b5d49f9",
   "metadata": {},
   "source": [
    "### Вычислите важности признаков и найдите два признака с наибольшей важностью"
   ]
  },
  {
   "cell_type": "code",
   "execution_count": 101,
   "id": "1d8f320e",
   "metadata": {},
   "outputs": [
    {
     "name": "stdout",
     "output_type": "stream",
     "text": [
      "[0.01793336 0.4009751  0.29762263 0.2834689 ]\n",
      "             Pclass   Age     Fare  Sex_bin\n",
      "PassengerId                                \n",
      "2                 1  38.0  71.2833        0\n",
      "4                 1  35.0  53.1000        0\n",
      "7                 1  54.0  51.8625        1\n",
      "11                3   4.0  16.7000        0\n",
      "12                1  58.0  26.5500        0\n",
      "...             ...   ...      ...      ...\n",
      "872               1  47.0  52.5542        0\n",
      "873               1  33.0   5.0000        1\n",
      "880               1  56.0  83.1583        0\n",
      "888               1  19.0  30.0000        0\n",
      "890               1  26.0  30.0000        1\n",
      "\n",
      "[183 rows x 4 columns]\n",
      "Как видно, самые важные признаки были Возраст и Цена Билета\n"
     ]
    }
   ],
   "source": [
    "from sklearn.tree import DecisionTreeClassifier\n",
    "dfr = data.copy()\n",
    "df = dfr.dropna()\n",
    "Y = df['Survived']\n",
    "df = df.drop(['Survived', 'Name', 'SibSp', 'Parch', 'Ticket', 'Cabin', 'Embarked', 'First_name'], axis=1)\n",
    "df['Sex_bin'] = df['Sex'].apply(lambda x: 1 if x=='male' else 0)\n",
    "df = df.drop(['Sex'], axis=1)\n",
    "X = df\n",
    "model = DecisionTreeClassifier(random_state=241)\n",
    "model.fit(X, Y)\n",
    "importances = model.feature_importances_\n",
    "print(importances)\n",
    "print(df)\n",
    "\n",
    "print('Как видно, самые важные признаки были Возраст и Цена Билета')"
   ]
  }
 ],
 "metadata": {
  "kernelspec": {
   "display_name": "Python 3 (ipykernel)",
   "language": "python",
   "name": "python3"
  },
  "language_info": {
   "codemirror_mode": {
    "name": "ipython",
    "version": 3
   },
   "file_extension": ".py",
   "mimetype": "text/x-python",
   "name": "python",
   "nbconvert_exporter": "python",
   "pygments_lexer": "ipython3",
   "version": "3.11.4"
  }
 },
 "nbformat": 4,
 "nbformat_minor": 5
}
