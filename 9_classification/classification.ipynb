{
 "cells": [
  {
   "cell_type": "code",
   "execution_count": 26,
   "metadata": {},
   "outputs": [],
   "source": [
    "import pandas as pd\n",
    "from sklearn.metrics import accuracy_score, precision_score, recall_score, f1_score, roc_auc_score, precision_recall_curve"
   ]
  },
  {
   "cell_type": "code",
   "execution_count": 27,
   "metadata": {},
   "outputs": [],
   "source": [
    "# Шаг 1: Загрузка данных classification.csv\n",
    "classification_data = pd.read_csv('classification.csv')"
   ]
  },
  {
   "cell_type": "code",
   "execution_count": 28,
   "metadata": {},
   "outputs": [
    {
     "name": "stdout",
     "output_type": "stream",
     "text": [
      "43 59 34 64\n"
     ]
    }
   ],
   "source": [
    "# Шаг 2: Заполнение таблицы ошибок классификации\n",
    "confusion_matrix = pd.crosstab(classification_data['true'], classification_data['pred'])\n",
    "\n",
    "TP = confusion_matrix[1][1]\n",
    "FP = confusion_matrix[0][1]\n",
    "FN = confusion_matrix[1][0]\n",
    "TN = confusion_matrix[0][0]\n",
    "\n",
    "print(f\"{TP} {FP} {FN} {TN}\")"
   ]
  },
  {
   "cell_type": "code",
   "execution_count": 29,
   "metadata": {},
   "outputs": [
    {
     "name": "stdout",
     "output_type": "stream",
     "text": [
      "Accuracy: 0.54\n",
      "Precision: 0.56\n",
      "Recall: 0.42\n",
      "F1 Score: 0.48\n"
     ]
    }
   ],
   "source": [
    "# Шаг 3: Вычисляем основные метрики\n",
    "accuracy = accuracy_score(classification_data['true'], classification_data['pred'])\n",
    "precision = precision_score(classification_data['true'], classification_data['pred'])\n",
    "recall = recall_score(classification_data['true'], classification_data['pred'])\n",
    "f1 = f1_score(classification_data['true'], classification_data['pred'])\n",
    "\n",
    "print(f\"Accuracy: {accuracy:.2f}\")\n",
    "print(f\"Precision: {precision:.2f}\")\n",
    "print(f\"Recall: {recall:.2f}\")\n",
    "print(f\"F1 Score: {f1:.2f}\")\n"
   ]
  },
  {
   "cell_type": "code",
   "execution_count": 30,
   "metadata": {},
   "outputs": [],
   "source": [
    "# Шаг 4: Загрузка данных scores.csv\n",
    "scores_data = pd.read_csv('scores.csv')"
   ]
  },
  {
   "cell_type": "code",
   "execution_count": 31,
   "metadata": {},
   "outputs": [
    {
     "name": "stdout",
     "output_type": "stream",
     "text": [
      "AUC-ROC\n",
      "\tдля логистической  регрессии: 0.72\n",
      "\tдля SVM: 0.71\n",
      "\tдля метрического  алгоритма: 0.64\n",
      "\tдля решающего дерева: 0.69\n"
     ]
    }
   ],
   "source": [
    "# Шаг 5: Вычисляем AUC-ROC\n",
    "auc_logreg = roc_auc_score(scores_data['true'], scores_data['score_logreg'])\n",
    "auc_svm = roc_auc_score(scores_data['true'], scores_data['score_svm'])\n",
    "auc_knn = roc_auc_score(scores_data['true'], scores_data['score_knn'])\n",
    "auc_tree = roc_auc_score(scores_data['true'], scores_data['score_tree'])\n",
    "\n",
    "print(\"AUC-ROC\")\n",
    "print(f\"\\tдля логистической  регрессии: {auc_logreg:.2f}\")\n",
    "print(f\"\\tдля SVM: {auc_svm:.2f}\")\n",
    "print(f\"\\tдля метрического  алгоритма: {auc_knn:.2f}\")\n",
    "print(f\"\\tдля решающего дерева: {auc_tree:.2f}\")"
   ]
  },
  {
   "cell_type": "code",
   "execution_count": 32,
   "metadata": {},
   "outputs": [
    {
     "name": "stdout",
     "output_type": "stream",
     "text": [
      "Precision при Recall не менее 70%\n",
      "\tдля логистической  регрессии: 0.63\n",
      "\tдля SVM: 0.62\n",
      "\tдля метрического  алгоритма: 0.61\n",
      "\tдля решающего дерева: 0.65\n"
     ]
    }
   ],
   "source": [
    "# Шаг 6: Находим классификатор с наибольшей точностью\n",
    "precision_logreg, recall_logreg, _ = precision_recall_curve(scores_data['true'], scores_data['score_logreg'])\n",
    "precision_svm, recall_svm, _ = precision_recall_curve(scores_data['true'], scores_data['score_svm'])\n",
    "precision_knn, recall_knn, _ = precision_recall_curve(scores_data['true'], scores_data['score_knn'])\n",
    "precision_tree, recall_tree, _ = precision_recall_curve(scores_data['true'], scores_data['score_tree'])\n",
    "\n",
    "precision_at_recall_70_logreg = max(precision_logreg[recall_logreg >= 0.7])\n",
    "precision_at_recall_70_svm = max(precision_svm[recall_svm >= 0.7])\n",
    "precision_at_recall_70_knn = max(precision_knn[recall_knn >= 0.7])\n",
    "precision_at_recall_70_tree = max(precision_tree[recall_tree >= 0.7])\n",
    "\n",
    "print(\"Precision при Recall не менее 70%\")\n",
    "print(f\"\\tдля логистической  регрессии: {precision_at_recall_70_logreg:.2f}\")\n",
    "print(f\"\\tдля SVM: {precision_at_recall_70_svm:.2f}\")\n",
    "print(f\"\\tдля метрического  алгоритма: {precision_at_recall_70_knn:.2f}\")\n",
    "print(f\"\\tдля решающего дерева: {precision_at_recall_70_tree:.2f}\")"
   ]
  }
 ],
 "metadata": {
  "kernelspec": {
   "display_name": "Python 3",
   "language": "python",
   "name": "python3"
  },
  "language_info": {
   "codemirror_mode": {
    "name": "ipython",
    "version": 3
   },
   "file_extension": ".py",
   "mimetype": "text/x-python",
   "name": "python",
   "nbconvert_exporter": "python",
   "pygments_lexer": "ipython3",
   "version": "3.11.6"
  }
 },
 "nbformat": 4,
 "nbformat_minor": 2
}
